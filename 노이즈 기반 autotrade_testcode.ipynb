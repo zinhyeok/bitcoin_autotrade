{
 "cells": [
  {
   "cell_type": "markdown",
   "metadata": {},
   "source": [
    "# 노이즈 기반 코인 자동 매수 & 매도"
   ]
  },
  {
   "cell_type": "markdown",
   "metadata": {},
   "source": [
    "## 1단계 import 및 기본 세팅"
   ]
  },
  {
   "cell_type": "code",
   "execution_count": 1,
   "metadata": {},
   "outputs": [],
   "source": [
    "from os import access, remove\n",
    "from re import L\n",
    "import time\n",
    "from numpy import NaN, absolute\n",
    "import pyupbit\n",
    "import datetime\n",
    "import pandas as pd\n",
    "from pyupbit.quotation_api import get_tickers\n",
    "import requests\n",
    "import pytz"
   ]
  },
  {
   "cell_type": "code",
   "execution_count": 2,
   "metadata": {},
   "outputs": [],
   "source": [
    "access = \"\"\n",
    "secret = \"\"\n",
    "\n",
    "upbit = pyupbit.Upbit(access, secret)"
   ]
  },
  {
   "cell_type": "code",
   "execution_count": 3,
   "metadata": {},
   "outputs": [],
   "source": [
    "# slack에 메세지 봇 추가\n",
    "\n",
    "\n",
    "def post_message(token, channel, text):\n",
    "    response = requests.post(\n",
    "        \"https://slack.com/api/chat.postMessage\",\n",
    "        headers={\"Authorization\": \"Bearer \" + token},\n",
    "        data={\"channel\": channel, \"text\": text},\n",
    "    )\n",
    "    print(response)\n",
    "\n",
    "\n",
    "myToken = \"slackbot token\""
   ]
  },
  {
   "cell_type": "markdown",
   "metadata": {},
   "source": [
    "## 2단계 함수 모음"
   ]
  },
  {
   "cell_type": "code",
   "execution_count": 4,
   "metadata": {},
   "outputs": [],
   "source": [
    "# 매수 목표가 조회\n",
    "def get_target_price(ticker, k):\n",
    "    \"\"\"변동성 돌파 전략으로 매수 목표가 조회\"\"\"\n",
    "    try:\n",
    "        df = pyupbit.get_ohlcv(ticker, interval=\"day\", count=2)\n",
    "        target_price = (\n",
    "            df.iloc[0][\"close\"] + (df.iloc[0][\"high\"] - df.iloc[0][\"low\"]) * k\n",
    "        )\n",
    "    except:\n",
    "        target_price = NaN\n",
    "\n",
    "    return target_price"
   ]
  },
  {
   "cell_type": "code",
   "execution_count": 5,
   "metadata": {},
   "outputs": [],
   "source": [
    "# 잔고조회\n",
    "def get_balance(ticker):\n",
    "    \"\"\"잔고 조회\"\"\"\n",
    "    balances = upbit.get_balances()\n",
    "    for b in balances:\n",
    "        if b[\"currency\"] == ticker:\n",
    "            if b[\"balance\"] is not None:\n",
    "                return float(b[\"balance\"])\n",
    "            else:\n",
    "                return 0\n",
    "    return 0\n"
   ]
  },
  {
   "cell_type": "code",
   "execution_count": 6,
   "metadata": {},
   "outputs": [],
   "source": [
    "# 현재가 조회\n",
    "def get_current_price(ticker):\n",
    "    \"\"\"현재가 조회\"\"\"\n",
    "    return pyupbit.get_orderbook(ticker=ticker)[\"orderbook_units\"][0][\"ask_price\"]"
   ]
  },
  {
   "cell_type": "code",
   "execution_count": 7,
   "metadata": {},
   "outputs": [],
   "source": [
    "# 3일 이동평균 조회\n",
    "def get_maday3(ticker):\n",
    "    \"\"\"3일 이동 평균선 조회\"\"\"\n",
    "    try:\n",
    "        df = pyupbit.get_ohlcv(ticker, interval=\"day\", count=3)\n",
    "        maday3 = df[\"close\"].rolling(3).mean().iloc[-1]\n",
    "    except:\n",
    "        maday3 = 0\n",
    "\n",
    "    return maday3"
   ]
  },
  {
   "cell_type": "code",
   "execution_count": 8,
   "metadata": {},
   "outputs": [],
   "source": [
    "# 15분 이동평균 조회\n",
    "def get_mamin15(ticker):\n",
    "    \"\"\"15분 이동 평균선의 3회차 이동평균 조회\"\"\"\n",
    "    try:\n",
    "        df = pyupbit.get_ohlcv(ticker, interval=\"minute5\", count=3)\n",
    "        mamin15 = df[\"close\"].rolling(3).mean().iloc[-1]\n",
    "    except:\n",
    "        pass\n",
    "\n",
    "    return mamin15"
   ]
  },
  {
   "cell_type": "code",
   "execution_count": 9,
   "metadata": {},
   "outputs": [],
   "source": [
    "# 시장 시작시간 조회\n",
    "def get_start_time(ticker):\n",
    "    \"\"\"시작 시간 조회\"\"\"\n",
    "    df = pyupbit.get_ohlcv(ticker, interval=\"day\", count=1)\n",
    "    start_time = df.index[0]\n",
    "    return start_time"
   ]
  },
  {
   "cell_type": "code",
   "execution_count": 10,
   "metadata": {},
   "outputs": [],
   "source": [
    "# 매도 가격 타겟팅\n",
    "def get_sell_price(ticker, k):\n",
    "    \"\"\"15분 이평선의 하락 변동성 돌파시 매도\"\"\"\n",
    "    try:\n",
    "        global sell_price\n",
    "        df = pyupbit.get_ohlcv(ticker, interval=\"minute15\", count=1)\n",
    "        sell_price = get_mamin15(ticker) - ((df.iloc[0][\"high\"] - df.iloc[0][\"low\"]) * k)\n",
    "    except:\n",
    "        pass\n",
    "    return sell_price"
   ]
  },
  {
   "cell_type": "code",
   "execution_count": 11,
   "metadata": {},
   "outputs": [],
   "source": [
    "# 노이즈 코인 리스트로 반환\n",
    "def get_noised_coin(tickers):\n",
    "    \"\"\"3일 노이즈 df에 추가 + 0.5아래인 값 분류\"\"\"\n",
    "    df = pd.DataFrame()\n",
    "    for ticker in tickers:\n",
    "        try:\n",
    "            temp = pyupbit.get_ohlcv(ticker, interval=\"day\", count=3)\n",
    "            temp[\"ticker\"] = ticker\n",
    "            df = pd.concat([df, temp])\n",
    "        except:\n",
    "            pass\n",
    "    # 결측치 데이터 삭제\n",
    "    df.dropna(inplace=True)\n",
    "\n",
    "    df_noise = pd.DataFrame()\n",
    "    for ticker in tickers:\n",
    "        try:\n",
    "            temp = df\n",
    "            temp[\"noise\"] = 1 - (\n",
    "                absolute(df[\"open\"] - df[\"close\"]) /\n",
    "                absolute(df[\"high\"] - df[\"low\"])\n",
    "            )\n",
    "            df_noise = pd.concat([df, temp])\n",
    "        except:\n",
    "            pass\n",
    "    df_noise.dropna(inplace=True)\n",
    "\n",
    "    noised_coin = []\n",
    "\n",
    "    for ticker in tickers:\n",
    "        check = df_noise[df_noise[\"ticker\"] == ticker]\n",
    "        if check[\"noise\"].mean() < 0.5:\n",
    "            # print(ticker, check['noise'].mean())\n",
    "            noised_coin.append(ticker)\n",
    "\n",
    "    return noised_coin"
   ]
  },
  {
   "cell_type": "code",
   "execution_count": 12,
   "metadata": {},
   "outputs": [],
   "source": [
    "# 노이즈가 포함된 df 출력\n",
    "\n",
    "\n",
    "def get_noised_df(tickers):\n",
    "    \"\"\"노이즈 0.5이하인것 조회\"\"\"\n",
    "    #tickers = pyupbit.get_tickers(fiat=\"KRW\")\n",
    "    df = pd.DataFrame()\n",
    "    for ticker in tickers:\n",
    "        try:\n",
    "            temp = pyupbit.get_ohlcv(ticker, interval=\"day\", count=3)\n",
    "            temp[\"ticker\"] = ticker\n",
    "            df = pd.concat([df, temp])\n",
    "            df.dropna(inplace=True)\n",
    "        except:\n",
    "            pass\n",
    "\n",
    "    df_noise = pd.DataFrame()\n",
    "    for ticker in tickers:\n",
    "        try:\n",
    "            temp = df\n",
    "            temp[\"noise\"] = 1 - (\n",
    "                absolute(df[\"open\"] - df[\"close\"]) /\n",
    "                absolute(df[\"high\"] - df[\"low\"])\n",
    "            )\n",
    "            df_noise = pd.concat([df, temp])\n",
    "\n",
    "        except:\n",
    "            temp = df\n",
    "            temp[\"noise\"] = NaN\n",
    "            df_noise = pd.concat([df, temp])\n",
    "\n",
    "    df_noise.dropna(inplace=True)\n",
    "    return df_noise\n",
    "\n",
    "\n"
   ]
  },
  {
   "cell_type": "code",
   "execution_count": 13,
   "metadata": {},
   "outputs": [],
   "source": [
    "# 매수, 매도의 target df만들기(기존 방식으로는 내가 원하는 코인을 원하는 가격에 매수 불가: 자료구조 문제) -> df로 변경 해결\n",
    "def get_target_df(tickers):\n",
    "    target_df = pd.DataFrame(\n",
    "        columns=[\"coin\", \"target_price\", \"maday3\", \"sell_price\", \"k\"]\n",
    "    )\n",
    "    for coin in tickers:\n",
    "        df_noise = get_noised_df(tickers)\n",
    "        check = df_noise[df_noise[\"ticker\"] == coin]\n",
    "        k = check[\"noise\"].mean()\n",
    "        target_price = get_target_price(coin, k)\n",
    "        maday3 = get_maday3(coin)\n",
    "        sell_price = get_sell_price(coin, k)\n",
    "        # DataFrame에 특정 정보를 이용하여 data 채우기\n",
    "        target_df = target_df.append(\n",
    "            pd.DataFrame(\n",
    "                [[coin, target_price, maday3, sell_price, k]],\n",
    "                columns=[\"coin\", \"target_price\", \"maday3\", \"sell_price\", \"k\"],\n",
    "            ),\n",
    "            ignore_index=True,\n",
    "        )\n",
    "    target_df.set_index(\"coin\", inplace=True)\n",
    "    target_df.dropna(inplace=True)\n",
    "\n",
    "    return target_df"
   ]
  },
  {
   "cell_type": "code",
   "execution_count": 14,
   "metadata": {},
   "outputs": [],
   "source": [
    "# 매도 가격 5분마다 업데이트\n",
    "def get_updateSell_price(df, ticker, k):\n",
    "    df = df\n",
    "    df[\"sell_price\"] = df[\"sell_price\"].map(get_sell_price(ticker, k))\n",
    "    return df"
   ]
  },
  {
   "cell_type": "code",
   "execution_count": 15,
   "metadata": {},
   "outputs": [],
   "source": [
    "# 주문 채결 확인 알고리즘\n",
    "\n",
    "\n",
    "def check_order(ticker):\n",
    "    buy_unconcluded = upbit.get_order()\n",
    "    df = pd.DataFrame(buy_unconcluded)\n",
    "    unconcluded_coin = df['market'].values.tolist()\n",
    "    if ticker in unconcluded_coin:\n",
    "        uuid = upbit.get_oder('uuid')\n",
    "        upbit.cancel_order(uuid)\n",
    "        return 1\n",
    "    else:\n",
    "        return 0\n"
   ]
  },
  {
   "cell_type": "code",
   "execution_count": 16,
   "metadata": {},
   "outputs": [],
   "source": [
    "# 매수 알고리즘(약 11초 delay 발생)\n",
    "\n",
    "\n",
    "def buy_coin(ticker, price):\n",
    "    upbit.buy_market_order(ticker, price)\n",
    "    time.sleep(1)\n",
    "    check_buy = check_order(ticker)\n",
    "    if check_buy == 0:\n",
    "        post_message(myToken,\n",
    "                     \"#history\",\n",
    "                     \"코인 매수 : \" + str(ticker)\n",
    "                     )\n",
    "        return 0\n",
    "    while(check_buy == 1):\n",
    "        upbit.buy_market_order(ticker, price)\n",
    "        time.sleep(10)\n",
    "        check_buy = check_order(ticker)\n",
    "        if check_buy == 0:\n",
    "            post_message(\n",
    "                myToken,\n",
    "                \"#history\",\n",
    "                \"코인 매수 : \" + str(ticker)\n",
    "            )\n",
    "            break\n",
    "    return 0"
   ]
  },
  {
   "cell_type": "code",
   "execution_count": 17,
   "metadata": {},
   "outputs": [],
   "source": [
    "# 매도 알고리즘(약 11초 delay 발생)\n",
    "\n",
    "\n",
    "def sell_coin(ticker, balance):\n",
    "    upbit.sell_market_order(ticker, balance)\n",
    "    time.sleep(1)\n",
    "    check_sell = check_order(ticker)\n",
    "    if check_sell == 0:\n",
    "        post_message(\n",
    "            myToken,\n",
    "            \"#history\",\n",
    "            \"코인 매도 : \" + str(ticker)\n",
    "        )\n",
    "        return 0\n",
    "    while(check_sell == 1):\n",
    "        upbit.sell_market_order(ticker, balance)\n",
    "        time.sleep(10)\n",
    "        check_sell = check_order(ticker)\n",
    "        if check_sell == 0:\n",
    "            post_message(\n",
    "                myToken,\n",
    "                \"#history\",\n",
    "                \"코인 매도 : \" + str(ticker)\n",
    "            )\n",
    "            break\n",
    "    return 0"
   ]
  },
  {
   "cell_type": "code",
   "execution_count": 18,
   "metadata": {},
   "outputs": [],
   "source": [
    "# 거래량 상위 50개만 가져오기\n",
    "\n",
    "\n",
    "def get_sort50(tickers):\n",
    "    df = pd.DataFrame()\n",
    "    for ticker in tickers:\n",
    "        try:\n",
    "            temp = pyupbit.get_ohlcv(ticker, interval=\"day\", count=1)\n",
    "            temp[\"ticker\"] = ticker\n",
    "            df = pd.concat([df, temp])\n",
    "        except:\n",
    "            pass\n",
    "    # 결측치 데이터 삭제\n",
    "    df.dropna(inplace=True)\n",
    "    df_sort_top50 = df.sort_values(by='volume', ascending=False).groupby(\n",
    "        'ticker', sort=False).head(50)\n",
    "    sort_coin50 = df_sort_top50['ticker'].values.tolist()\n",
    "    return sort_coin50"
   ]
  },
  {
   "cell_type": "markdown",
   "metadata": {},
   "source": [
    "## 3단계 자동매수 매도 시작"
   ]
  },
  {
   "cell_type": "code",
   "execution_count": 19,
   "metadata": {},
   "outputs": [
    {
     "name": "stdout",
     "output_type": "stream",
     "text": [
      "<Response [200]>\n",
      "Trade System Start\n"
     ]
    }
   ],
   "source": [
    "noised_coin = None\n",
    "target_df = None\n",
    "tickers = pyupbit.get_tickers(fiat=\"KRW\")\n",
    "KST = pytz.timezone('Asia/Seoul')\n",
    "\n",
    "# 시작 메세지 슬랙 전송\n",
    "post_message(myToken, \"#history\", \"시스템 시작\")\n",
    "print(\"Trade System Start\")"
   ]
  },
  {
   "cell_type": "code",
   "execution_count": 20,
   "metadata": {},
   "outputs": [
    {
     "name": "stdout",
     "output_type": "stream",
     "text": [
      "['KRW-BTT', 'KRW-XEC', 'KRW-QKC', 'KRW-MBL', 'KRW-T', 'KRW-NU', 'KRW-MFT', 'KRW-CRE', 'KRW-RFR', 'KRW-STPT', 'KRW-DOGE', 'KRW-AHT', 'KRW-SC', 'KRW-TT', 'KRW-TRX', 'KRW-XRP', 'KRW-VET', 'KRW-IQ', 'KRW-MVL', 'KRW-STMX', 'KRW-JST', 'KRW-SSX', 'KRW-LOOM', 'KRW-IOST', 'KRW-ZIL', 'KRW-MED', 'KRW-CHZ', 'KRW-ANKR', 'KRW-SNT', 'KRW-GRS', 'KRW-POLY', 'KRW-GLM', 'KRW-SAND', 'KRW-ORBS', 'KRW-POWR', 'KRW-AERGO', 'KRW-TFUEL', 'KRW-BORA', 'KRW-META', 'KRW-HUNT', 'KRW-MATIC', 'KRW-XLM', 'KRW-MANA', 'KRW-KNC', 'KRW-MOC', 'KRW-HBAR', 'KRW-UPP', 'KRW-DKA', 'KRW-ADA', 'KRW-HUM', 'KRW-WAXP', 'KRW-XEM', 'KRW-ALGO', 'KRW-ARDR', 'KRW-PLA', 'KRW-WAVES', 'KRW-FCT2', 'KRW-ONG', 'KRW-CVC', 'KRW-ZRX', 'KRW-SXP', 'KRW-CRO', 'KRW-ELF', 'KRW-NEAR', 'KRW-ONT', 'KRW-HIVE', 'KRW-MTL', 'KRW-EOS', 'KRW-ICX', 'KRW-BAT', 'KRW-MLK', 'KRW-STX', 'KRW-FLOW', 'KRW-STEEM', 'KRW-PUNDIX', 'KRW-AQT', 'KRW-STORJ', 'KRW-OMG', 'KRW-ENJ', 'KRW-1INCH', 'KRW-SRM', 'KRW-CBK', 'KRW-WEMIX', 'KRW-STRAX', 'KRW-ARK', 'KRW-IOTA', 'KRW-TON', 'KRW-THETA', 'KRW-DAWN', 'KRW-XTZ', 'KRW-KAVA', 'KRW-AXS', 'KRW-SOL', 'KRW-QTUM', 'KRW-ATOM', 'KRW-LINK', 'KRW-DOT', 'KRW-LSK', 'KRW-GAS', 'KRW-ETC', 'KRW-NEO', 'KRW-REP', 'KRW-SBD', 'KRW-STRK', 'KRW-AVAX', 'KRW-BTG', 'KRW-ETH', 'KRW-LTC', 'KRW-AAVE', 'KRW-BSV', 'KRW-BCH', 'KRW-BTC']\n"
     ]
    }
   ],
   "source": [
    "sort_coin50 = get_sort50(tickers)\n",
    "current_coin = []\n",
    "print(sort_coin50)"
   ]
  },
  {
   "cell_type": "code",
   "execution_count": 21,
   "metadata": {},
   "outputs": [
    {
     "name": "stdout",
     "output_type": "stream",
     "text": [
      "['KRW-BTT', 'KRW-XEC', 'KRW-TRX', 'KRW-IQ', 'KRW-MVL', 'KRW-JST', 'KRW-SSX', 'KRW-ZIL', 'KRW-ANKR', 'KRW-POLY', 'KRW-SAND', 'KRW-BORA', 'KRW-XLM', 'KRW-KNC', 'KRW-HBAR', 'KRW-ADA', 'KRW-WAXP', 'KRW-ALGO', 'KRW-PLA', 'KRW-CVC', 'KRW-SXP', 'KRW-ELF', 'KRW-NEAR', 'KRW-HIVE', 'KRW-ICX', 'KRW-BAT', 'KRW-STX', 'KRW-FLOW', 'KRW-ENJ', 'KRW-THETA', 'KRW-QTUM', 'KRW-NEO', 'KRW-AVAX', 'KRW-AAVE', 'KRW-BCH', 'KRW-BTC']\n"
     ]
    }
   ],
   "source": [
    "noised_coin = get_noised_coin(sort_coin50)\n",
    "print(noised_coin)"
   ]
  },
  {
   "cell_type": "code",
   "execution_count": null,
   "metadata": {},
   "outputs": [],
   "source": [
    "target_df = get_target_df(noised_coin)\n",
    "print(target_df)"
   ]
  },
  {
   "cell_type": "code",
   "execution_count": 23,
   "metadata": {},
   "outputs": [
    {
     "ename": "KeyError",
     "evalue": "0",
     "output_type": "error",
     "traceback": [
      "\u001b[1;31m---------------------------------------------------------------------------\u001b[0m",
      "\u001b[1;31mKeyError\u001b[0m                                  Traceback (most recent call last)",
      "\u001b[1;32m~\\anaconda3\\lib\\site-packages\\pandas\\core\\indexes\\base.py\u001b[0m in \u001b[0;36mget_loc\u001b[1;34m(self, key, method, tolerance)\u001b[0m\n\u001b[0;32m   3360\u001b[0m             \u001b[1;32mtry\u001b[0m\u001b[1;33m:\u001b[0m\u001b[1;33m\u001b[0m\u001b[1;33m\u001b[0m\u001b[0m\n\u001b[1;32m-> 3361\u001b[1;33m                 \u001b[1;32mreturn\u001b[0m \u001b[0mself\u001b[0m\u001b[1;33m.\u001b[0m\u001b[0m_engine\u001b[0m\u001b[1;33m.\u001b[0m\u001b[0mget_loc\u001b[0m\u001b[1;33m(\u001b[0m\u001b[0mcasted_key\u001b[0m\u001b[1;33m)\u001b[0m\u001b[1;33m\u001b[0m\u001b[1;33m\u001b[0m\u001b[0m\n\u001b[0m\u001b[0;32m   3362\u001b[0m             \u001b[1;32mexcept\u001b[0m \u001b[0mKeyError\u001b[0m \u001b[1;32mas\u001b[0m \u001b[0merr\u001b[0m\u001b[1;33m:\u001b[0m\u001b[1;33m\u001b[0m\u001b[1;33m\u001b[0m\u001b[0m\n",
      "\u001b[1;32m~\\anaconda3\\lib\\site-packages\\pandas\\_libs\\index.pyx\u001b[0m in \u001b[0;36mpandas._libs.index.IndexEngine.get_loc\u001b[1;34m()\u001b[0m\n",
      "\u001b[1;32m~\\anaconda3\\lib\\site-packages\\pandas\\_libs\\index.pyx\u001b[0m in \u001b[0;36mpandas._libs.index.IndexEngine.get_loc\u001b[1;34m()\u001b[0m\n",
      "\u001b[1;32mpandas\\_libs\\hashtable_class_helper.pxi\u001b[0m in \u001b[0;36mpandas._libs.hashtable.PyObjectHashTable.get_item\u001b[1;34m()\u001b[0m\n",
      "\u001b[1;32mpandas\\_libs\\hashtable_class_helper.pxi\u001b[0m in \u001b[0;36mpandas._libs.hashtable.PyObjectHashTable.get_item\u001b[1;34m()\u001b[0m\n",
      "\u001b[1;31mKeyError\u001b[0m: 0",
      "\nThe above exception was the direct cause of the following exception:\n",
      "\u001b[1;31mKeyError\u001b[0m                                  Traceback (most recent call last)",
      "\u001b[1;32m~\\AppData\\Local\\Temp/ipykernel_1276/961552895.py\u001b[0m in \u001b[0;36m<module>\u001b[1;34m\u001b[0m\n\u001b[1;32m----> 1\u001b[1;33m \u001b[0mtarget_coin\u001b[0m \u001b[1;33m=\u001b[0m \u001b[0mtarget_df\u001b[0m\u001b[1;33m[\u001b[0m\u001b[1;36m0\u001b[0m\u001b[1;33m]\u001b[0m\u001b[1;33m.\u001b[0m\u001b[0mvalues\u001b[0m\u001b[1;33m.\u001b[0m\u001b[0mtolist\u001b[0m\u001b[1;33m(\u001b[0m\u001b[1;33m)\u001b[0m\u001b[1;33m\u001b[0m\u001b[1;33m\u001b[0m\u001b[0m\n\u001b[0m\u001b[0;32m      2\u001b[0m \u001b[0mprint\u001b[0m\u001b[1;33m(\u001b[0m\u001b[0mtarget_coin\u001b[0m\u001b[1;33m)\u001b[0m\u001b[1;33m\u001b[0m\u001b[1;33m\u001b[0m\u001b[0m\n",
      "\u001b[1;32m~\\anaconda3\\lib\\site-packages\\pandas\\core\\frame.py\u001b[0m in \u001b[0;36m__getitem__\u001b[1;34m(self, key)\u001b[0m\n\u001b[0;32m   3456\u001b[0m             \u001b[1;32mif\u001b[0m \u001b[0mself\u001b[0m\u001b[1;33m.\u001b[0m\u001b[0mcolumns\u001b[0m\u001b[1;33m.\u001b[0m\u001b[0mnlevels\u001b[0m \u001b[1;33m>\u001b[0m \u001b[1;36m1\u001b[0m\u001b[1;33m:\u001b[0m\u001b[1;33m\u001b[0m\u001b[1;33m\u001b[0m\u001b[0m\n\u001b[0;32m   3457\u001b[0m                 \u001b[1;32mreturn\u001b[0m \u001b[0mself\u001b[0m\u001b[1;33m.\u001b[0m\u001b[0m_getitem_multilevel\u001b[0m\u001b[1;33m(\u001b[0m\u001b[0mkey\u001b[0m\u001b[1;33m)\u001b[0m\u001b[1;33m\u001b[0m\u001b[1;33m\u001b[0m\u001b[0m\n\u001b[1;32m-> 3458\u001b[1;33m             \u001b[0mindexer\u001b[0m \u001b[1;33m=\u001b[0m \u001b[0mself\u001b[0m\u001b[1;33m.\u001b[0m\u001b[0mcolumns\u001b[0m\u001b[1;33m.\u001b[0m\u001b[0mget_loc\u001b[0m\u001b[1;33m(\u001b[0m\u001b[0mkey\u001b[0m\u001b[1;33m)\u001b[0m\u001b[1;33m\u001b[0m\u001b[1;33m\u001b[0m\u001b[0m\n\u001b[0m\u001b[0;32m   3459\u001b[0m             \u001b[1;32mif\u001b[0m \u001b[0mis_integer\u001b[0m\u001b[1;33m(\u001b[0m\u001b[0mindexer\u001b[0m\u001b[1;33m)\u001b[0m\u001b[1;33m:\u001b[0m\u001b[1;33m\u001b[0m\u001b[1;33m\u001b[0m\u001b[0m\n\u001b[0;32m   3460\u001b[0m                 \u001b[0mindexer\u001b[0m \u001b[1;33m=\u001b[0m \u001b[1;33m[\u001b[0m\u001b[0mindexer\u001b[0m\u001b[1;33m]\u001b[0m\u001b[1;33m\u001b[0m\u001b[1;33m\u001b[0m\u001b[0m\n",
      "\u001b[1;32m~\\anaconda3\\lib\\site-packages\\pandas\\core\\indexes\\base.py\u001b[0m in \u001b[0;36mget_loc\u001b[1;34m(self, key, method, tolerance)\u001b[0m\n\u001b[0;32m   3361\u001b[0m                 \u001b[1;32mreturn\u001b[0m \u001b[0mself\u001b[0m\u001b[1;33m.\u001b[0m\u001b[0m_engine\u001b[0m\u001b[1;33m.\u001b[0m\u001b[0mget_loc\u001b[0m\u001b[1;33m(\u001b[0m\u001b[0mcasted_key\u001b[0m\u001b[1;33m)\u001b[0m\u001b[1;33m\u001b[0m\u001b[1;33m\u001b[0m\u001b[0m\n\u001b[0;32m   3362\u001b[0m             \u001b[1;32mexcept\u001b[0m \u001b[0mKeyError\u001b[0m \u001b[1;32mas\u001b[0m \u001b[0merr\u001b[0m\u001b[1;33m:\u001b[0m\u001b[1;33m\u001b[0m\u001b[1;33m\u001b[0m\u001b[0m\n\u001b[1;32m-> 3363\u001b[1;33m                 \u001b[1;32mraise\u001b[0m \u001b[0mKeyError\u001b[0m\u001b[1;33m(\u001b[0m\u001b[0mkey\u001b[0m\u001b[1;33m)\u001b[0m \u001b[1;32mfrom\u001b[0m \u001b[0merr\u001b[0m\u001b[1;33m\u001b[0m\u001b[1;33m\u001b[0m\u001b[0m\n\u001b[0m\u001b[0;32m   3364\u001b[0m \u001b[1;33m\u001b[0m\u001b[0m\n\u001b[0;32m   3365\u001b[0m         \u001b[1;32mif\u001b[0m \u001b[0mis_scalar\u001b[0m\u001b[1;33m(\u001b[0m\u001b[0mkey\u001b[0m\u001b[1;33m)\u001b[0m \u001b[1;32mand\u001b[0m \u001b[0misna\u001b[0m\u001b[1;33m(\u001b[0m\u001b[0mkey\u001b[0m\u001b[1;33m)\u001b[0m \u001b[1;32mand\u001b[0m \u001b[1;32mnot\u001b[0m \u001b[0mself\u001b[0m\u001b[1;33m.\u001b[0m\u001b[0mhasnans\u001b[0m\u001b[1;33m:\u001b[0m\u001b[1;33m\u001b[0m\u001b[1;33m\u001b[0m\u001b[0m\n",
      "\u001b[1;31mKeyError\u001b[0m: 0"
     ]
    }
   ],
   "source": [
    "target_coin = target_df[0].values.tolist()\n",
    "print(target_coin)"
   ]
  },
  {
   "cell_type": "code",
   "execution_count": null,
   "metadata": {},
   "outputs": [],
   "source": [
    "A = False\n",
    "while(A == True):\n",
    "    try:\n",
    "        now = datetime.datetime.now(KST)\n",
    "        start_time = datetime.datetime(now.year, now.month, now.day, 9, 00, 00)\n",
    "        end_time = start_time + datetime.timedelta(days=1)\n",
    "        start_time = KST.localize(start_time)\n",
    "        end_time = KST.localize(end_time)\n",
    "        # 9:00~9:01 10초사이에는 노이즈가 0.4이하인 코인 선정 업데이트 & 수익률 업데이트 &목표가 seting\n",
    "        if (\n",
    "            start_time < now < start_time + datetime.timedelta(seconds=10)\n",
    "            or target_df is None\n",
    "        ):\n",
    "            fee = 0.0005\n",
    "            try:\n",
    "               # tickers = pyupbit.get_tickers(fiat=\"KRW\")\n",
    "               # sort_coin50 = get_sort50(tickers)\n",
    "                sort_coin50 = ['KRW-BTT', 'KRW-XEC', 'KRW-MFT', 'KRW-MBL', 'KRW-TRX', 'KRW-TFUEL', 'KRW-QKC', 'KRW-DOGE', 'KRW-SC', 'KRW-AHT', 'KRW-VET', 'KRW-MVL', 'KRW-XRP', 'KRW-STMX', 'KRW-RFR', 'KRW-MED', 'KRW-POWR', 'KRW-ORBS', 'KRW-ANKR', 'KRW-IQ', 'KRW-JST', 'KRW-BORA', 'KRW-SNT', 'KRW-ZIL', 'KRW-MANA', 'KRW-META', 'KRW-ONG', 'KRW-SSX', 'KRW-WAXP', 'KRW-ICX', 'KRW-STPT', 'KRW-CHZ', 'KRW-XLM', 'KRW-WEMIX', 'KRW-ADA', 'KRW-HBAR', 'KRW-ZRX', 'KRW-UPP', 'KRW-HUM', 'KRW-MOC', 'KRW-AERGO', 'KRW-FCT2', 'KRW-STEEM', 'KRW-ONT', 'KRW-THETA', 'KRW-ALGO', 'KRW-SXP',\n",
    "                               'KRW-ARDR', 'KRW-POLY', 'KRW-STX', 'KRW-KNC', 'KRW-CRO', 'KRW-EOS', 'KRW-ELF', 'KRW-WAVES', 'KRW-FLOW', 'KRW-CVC', 'KRW-SBD', 'KRW-GLM', 'KRW-MLK', 'KRW-DAWN', 'KRW-1INCH', 'KRW-ENJ', 'KRW-GRS', 'KRW-KAVA', 'KRW-SRM', 'KRW-NEO', 'KRW-HIVE', 'KRW-PUNDIX', 'KRW-STORJ', 'KRW-IOTA', 'KRW-GAS', 'KRW-ARK', 'KRW-AXS', 'KRW-NEAR', 'KRW-MTL', 'KRW-AQT', 'KRW-XTZ', 'KRW-STRAX', 'KRW-LSK', 'KRW-ETC', 'KRW-OMG', 'KRW-CBK', 'KRW-TON', 'KRW-LINK', 'KRW-DOT', 'KRW-SOL', 'KRW-AVAX', 'KRW-REP', 'KRW-STRK', 'KRW-BTG', 'KRW-ETH', 'KRW-BSV', 'KRW-LTC', 'KRW-AAVE', 'KRW-BTC']\n",
    "                current_coin = []\n",
    "                noised_coin = get_noised_coin(sort_coin50)\n",
    "                target_df = get_target_df(noised_coin)\n",
    "\n",
    "                post_message(\n",
    "                    myToken, \"#history\", \"현재 잔고는: \" +\n",
    "                    str(upbit.get_balance(\"KRW\"))\n",
    "                )\n",
    "                target_coin = target_df['coin'].values.tolist()\n",
    "                print(target_coin)\n",
    "\n",
    "                print(\"set end\")\n",
    "                post_message(myToken, \"#history\", \"세팅 완료 시간: \" + str(now))\n",
    "                post_message(myToken, \"#history\", \"타깃은: \" +\n",
    "                             \" \".join(target_coin))\n",
    "\n",
    "            except:\n",
    "                post_message(myToken, \"#history\", \"세팅 실패\")\n",
    "                print(\"set fail\")\n",
    "                target_df = None\n",
    "        # 자동 매수, 매도 9:00 10초~다음날 8:59분\n",
    "        elif (\n",
    "            start_time + datetime.timedelta(seconds=10)\n",
    "            < now\n",
    "            < end_time - datetime.timedelta(minutes=1)\n",
    "            and target_df is not None\n",
    "        ):\n",
    "            print(\"...................\")\n",
    "            if noised_coin is not None:\n",
    "                for ticker in noised_coin:\n",
    "                    target_price = target_df.loc[ticker, \"target_price\"]\n",
    "                    maday3 = target_df.loc[ticker, \"maday3\"]\n",
    "                    current_price = get_current_price(ticker)\n",
    "                    # 이동평균선보다 가격이 높고, 변동성 돌파 가격보다도 높을 시 매수\n",
    "                    if target_price < current_price and maday3 < current_price:\n",
    "                        krw = get_balance(\"KRW\")\n",
    "                        coin_budget = int(krw * ((1 - fee) / len(noised_coin)))\n",
    "                        # 매수 단계\n",
    "                        try:\n",
    "                            buy_result = buy_coin(ticker, coin_budget)\n",
    "                            if buy_result == 0:\n",
    "                                noised_coin.remove(ticker)\n",
    "                                current_coin.append(ticker)\n",
    "\n",
    "                        except Exception as e:\n",
    "                            print(\"buy error: {}\".format(e))\n",
    "                            post_message(myToken, \"#history\",\n",
    "                                         \"매수에러: \" + str(e))\n",
    "                            if str(e) in noised_coin:\n",
    "                                noised_coin.remove(e)\n",
    "                            else:\n",
    "                                pass\n",
    "                        time.sleep(1)\n",
    "\n",
    "                # 자동매도: 시가가 전 15분틱 3개의 이동평균의 노이즈만큼 감소 and 거래량 15분 틱 3개의 이동평균보다 낮을 시 매도 + 내가 현재 보유중인 코인만 매도\n",
    "                # 매도 후에는 오늘 보유리스트에서 제거\n",
    "                if current_coin is not None:\n",
    "                    for ticker in current_coin:\n",
    "                        target_df = get_updateSell_price(target_df, ticker, k)\n",
    "                        k = target_df.loc[ticker, \"k\"]\n",
    "                        sell_price = target_df.loc[ticker, \"sell_price\"]\n",
    "                        coin_count = get_balance(ticker)\n",
    "\n",
    "                        if sell_price is NaN:\n",
    "                            sell_price = current_price * 100\n",
    "\n",
    "                        if current_price < sell_price and ticker in current_coin:\n",
    "                            try:\n",
    "                                sell_result = sell_coin(ticker, coin_count)\n",
    "                                if sell_result == 0:\n",
    "                                    current_coin.remove(ticker)\n",
    "                            except Exception as e:\n",
    "                                print(\"sell error: {}\".format(e))\n",
    "                                post_message(myToken, \"#histroy\",\n",
    "                                             \"매도 에러:\" + str(e))\n",
    "                        time.sleep(280)\n",
    "\n",
    "        # 모두 청산 매도 다음날 8:59:00~ 9:00:00\n",
    "        else:\n",
    "            try:\n",
    "                if current_coin is not None:\n",
    "                    for ticker in current_coin:\n",
    "                        coin_count = get_balance(ticker)\n",
    "                        # sell_result = upbit.sell_market_order(ticker)\n",
    "                        sell_result = sell_coin(ticker, coin_count)\n",
    "                        if sell_result == 0:\n",
    "                            current_coin.remove(ticker)\n",
    "\n",
    "                        time.sleep(1)\n",
    "\n",
    "            except Exception as e:\n",
    "                print(\"all sell error: {}\".format(e))\n",
    "                post_message(myToken, \"#history\", \"청산 에러:\" + str(e))\n",
    "\n",
    "    except Exception as e:\n",
    "        print(\"auto set error: {}\".format(e))\n",
    "        post_message(myToken, \"#histroy\", \"전체 코드 에러:\" + str(e))\n",
    "        if str(e) in tickers:\n",
    "            tickers.remove(e)\n",
    "        else:\n",
    "            pass\n",
    "        time.sleep(1)\n"
   ]
  }
 ],
 "metadata": {
  "kernelspec": {
   "display_name": "Python 3 (ipykernel)",
   "language": "python",
   "name": "python3"
  },
  "language_info": {
   "codemirror_mode": {
    "name": "ipython",
    "version": 3
   },
   "file_extension": ".py",
   "mimetype": "text/x-python",
   "name": "python",
   "nbconvert_exporter": "python",
   "pygments_lexer": "ipython3",
   "version": "3.9.7"
  }
 },
 "nbformat": 4,
 "nbformat_minor": 4
}
