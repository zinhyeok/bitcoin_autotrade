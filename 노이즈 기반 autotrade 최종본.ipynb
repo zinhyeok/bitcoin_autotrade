{
 "cells": [
  {
   "cell_type": "markdown",
   "metadata": {},
   "source": [
    "# 노이즈 기반 코인 자동 매수 & 매도"
   ]
  },
  {
   "cell_type": "markdown",
   "metadata": {},
   "source": [
    "## 1단계 import 및 기본 세팅"
   ]
  },
  {
   "cell_type": "code",
   "execution_count": 3,
   "metadata": {},
   "outputs": [],
   "source": [
    "from os import access\n",
    "from re import L\n",
    "import time\n",
    "from numpy import absolute\n",
    "import pyupbit\n",
    "import datetime\n",
    "import pandas as pd\n",
    "from pyupbit.quotation_api import get_tickers\n",
    "import requests"
   ]
  },
  {
   "cell_type": "code",
   "execution_count": 2,
   "metadata": {},
   "outputs": [],
   "source": [
    "access = \"\"\n",
    "secret = \"\"\n",
    "\n",
    "upbit = pyupbit.Upbit(access, secret)"
   ]
  },
  {
   "cell_type": "code",
   "execution_count": 3,
   "metadata": {},
   "outputs": [],
   "source": [
    "# slack에 메세지 봇 추가\n",
    "\n",
    "\n",
    "def post_message(token, channel, text):\n",
    "    response = requests.post(\n",
    "        \"https://slack.com/api/chat.postMessage\",\n",
    "        headers={\"Authorization\": \"Bearer \" + token},\n",
    "        data={\"channel\": channel, \"text\": text},\n",
    "    )\n",
    "    print(response)\n",
    "\n",
    "\n",
    "myToken = \"slackbot token\""
   ]
  },
  {
   "cell_type": "markdown",
   "metadata": {},
   "source": [
    "## 2단계 함수 모음"
   ]
  },
  {
   "cell_type": "code",
   "execution_count": 19,
   "metadata": {},
   "outputs": [],
   "source": [
    "# 매수 목표가 조회\n",
    "def get_target_price(ticker, k):\n",
    "    \"\"\"변동성 돌파 전략으로 매수 목표가 조회\"\"\"\n",
    "    try:\n",
    "        df = pyupbit.get_ohlcv(ticker, interval=\"day\", count=2)\n",
    "        target_price = (\n",
    "            df.iloc[0][\"close\"] + (df.iloc[0][\"high\"] - df.iloc[0][\"low\"]) * k\n",
    "        )\n",
    "    except:\n",
    "        target_price = NaN\n",
    "\n",
    "    return target_price"
   ]
  },
  {
   "cell_type": "code",
   "execution_count": 20,
   "metadata": {},
   "outputs": [],
   "source": [
    "# 잔고조회\n",
    "def get_balance(ticker):\n",
    "    \"\"\"잔고 조회\"\"\"\n",
    "    balances = upbit.get_balances()\n",
    "    for b in balances:\n",
    "        if b[\"currency\"] == ticker:\n",
    "            if b[\"balance\"] is not None:\n",
    "                return float(b[\"balance\"])\n",
    "            else:\n",
    "                return 0\n",
    "    return 0\n"
   ]
  },
  {
   "cell_type": "code",
   "execution_count": 21,
   "metadata": {},
   "outputs": [],
   "source": [
    "# 현재가 조회\n",
    "def get_current_price(ticker):\n",
    "    \"\"\"현재가 조회\"\"\"\n",
    "    return pyupbit.get_orderbook(ticker=ticker)[\"orderbook_units\"][0][\"ask_price\"]"
   ]
  },
  {
   "cell_type": "code",
   "execution_count": 22,
   "metadata": {},
   "outputs": [],
   "source": [
    "# 3일 이동평균 조회\n",
    "def get_maday3(ticker):\n",
    "    \"\"\"3일 이동 평균선 조회\"\"\"\n",
    "    try:\n",
    "        df = pyupbit.get_ohlcv(ticker, interval=\"day\", count=3)\n",
    "        maday3 = df[\"close\"].rolling(3).mean().iloc[-1]\n",
    "    except:\n",
    "        maday3 = 0\n",
    "\n",
    "    return maday3"
   ]
  },
  {
   "cell_type": "code",
   "execution_count": 23,
   "metadata": {},
   "outputs": [],
   "source": [
    "# 15분 이동평균 조회\n",
    "def get_mamin15(ticker):\n",
    "    \"\"\"15분 이동 평균선의 3회차 이동평균 조회\"\"\"\n",
    "    try:\n",
    "        df = pyupbit.get_ohlcv(ticker, interval=\"minute5\", count=3)\n",
    "        mamin15 = df[\"close\"].rolling(3).mean().iloc[-1]\n",
    "    except:\n",
    "        pass\n",
    "\n",
    "    return mamin15"
   ]
  },
  {
   "cell_type": "code",
   "execution_count": 24,
   "metadata": {},
   "outputs": [],
   "source": [
    "# 시장 시작시간 조회\n",
    "def get_start_time(ticker):\n",
    "    \"\"\"시작 시간 조회\"\"\"\n",
    "    df = pyupbit.get_ohlcv(ticker, interval=\"day\", count=1)\n",
    "    start_time = df.index[0]\n",
    "    return start_time"
   ]
  },
  {
   "cell_type": "code",
   "execution_count": 25,
   "metadata": {},
   "outputs": [],
   "source": [
    "# 매도 가격 타겟팅\n",
    "def get_sell_price(ticker, k):\n",
    "    \"\"\"15분 이평선의 하락 변동성 돌파시 매도\"\"\"\n",
    "    try:\n",
    "        df = pyupbit.get_ohlcv(ticker, interval=\"minute15\", count=1)\n",
    "        sell_price = get_mamin15(ticker) - (df.iloc[0][\"high\"] - df.iloc[0][\"low\"]) * k\n",
    "    except:\n",
    "        pass\n",
    "\n",
    "    return sell_price"
   ]
  },
  {
   "cell_type": "code",
   "execution_count": 26,
   "metadata": {},
   "outputs": [],
   "source": [
    "# 노이즈 함수\n",
    "def get_noised_coin():\n",
    "    \"\"\"3일 노이즈 df에 추가 + 0.5아래인 값 분류\"\"\"\n",
    "    tickers = pyupbit.get_tickers(fiat=\"KRW\")\n",
    "    df = pd.DataFrame()\n",
    "    for ticker in tickers:\n",
    "        try:\n",
    "            temp = pyupbit.get_ohlcv(ticker, interval=\"day\", count=3)\n",
    "            temp[\"ticker\"] = ticker\n",
    "            df = pd.concat([df, temp])\n",
    "        except:\n",
    "            pass\n",
    "    df_noise = pd.DataFrame()\n",
    "    for ticker in tickers:\n",
    "        try:\n",
    "            temp = df\n",
    "            temp[\"noise\"] = 1 - (\n",
    "                absolute(df[\"open\"] - df[\"close\"]) /\n",
    "                absolute(df[\"high\"] - df[\"low\"])\n",
    "            )\n",
    "            df_noise = pd.concat([df, temp])\n",
    "        except:\n",
    "            pass\n",
    "\n",
    "    noised_coin = []\n",
    "\n",
    "    for ticker in tickers:\n",
    "        check = df_noise[df_noise[\"ticker\"] == ticker]\n",
    "        if check[\"noise\"].mean() < 0.5:\n",
    "            # print(ticker, check['noise'].mean())\n",
    "            noised_coin.append(ticker)\n",
    "    return noised_coin"
   ]
  },
  {
   "cell_type": "code",
   "execution_count": 27,
   "metadata": {},
   "outputs": [],
   "source": [
    "# 노이즈가 포함된 df 출력\n",
    "def get_noised_df():\n",
    "    \"\"\"노이즈 0.5이하인것 조회\"\"\"\n",
    "    tickers = pyupbit.get_tickers(fiat=\"KRW\")\n",
    "    df = pd.DataFrame()\n",
    "    for ticker in tickers:\n",
    "        try:\n",
    "            temp = pyupbit.get_ohlcv(ticker, interval=\"day\", count=3)\n",
    "            temp[\"ticker\"] = ticker\n",
    "            df = pd.concat([df, temp])\n",
    "        except:\n",
    "            pass\n",
    "    df_noise = pd.DataFrame()\n",
    "    for ticker in tickers:\n",
    "        try:\n",
    "            temp = df\n",
    "            temp[\"noise\"] = 1 - (\n",
    "                absolute(df[\"open\"] - df[\"close\"]) /\n",
    "                absolute(df[\"high\"] - df[\"low\"])\n",
    "            )\n",
    "            df_noise = pd.concat([df, temp])\n",
    "        except:\n",
    "            pass\n",
    "    return df_noise"
   ]
  },
  {
   "cell_type": "code",
   "execution_count": 28,
   "metadata": {},
   "outputs": [],
   "source": [
    "# 매수, 매도의 target df만들기(기존 방식으로는 내가 원하는 코인을 원하는 가격에 매수 불가: 자료구조 문제)\n",
    "def get_target_df(tickers):\n",
    "    target_df = pd.DataFrame(\n",
    "        columns=[\"coin\", \"target_price\", \"maday3\", \"sell_price\", \"k\"]\n",
    "    )\n",
    "    for coin in tickers:\n",
    "        df_noise = get_noised_df()\n",
    "        check = df_noise[df_noise[\"ticker\"] == coin]\n",
    "        k = check[\"noise\"].mean()\n",
    "        target_price = get_target_price(coin, k)\n",
    "        maday3 = get_maday3(coin)\n",
    "        sell_price = get_sell_price(coin, k)\n",
    "        # DataFrame에 특정 정보를 이용하여 data 채우기\n",
    "        target_df = target_df.append(\n",
    "            pd.DataFrame(\n",
    "                [[coin, target_price, maday3, sell_price, k]],\n",
    "                columns=[\"coin\", \"target_price\", \"maday3\", \"sell_price\", \"k\"],\n",
    "            ),\n",
    "            ignore_index=True,\n",
    "        )\n",
    "    target_df.set_index(\"coin\", inplace=True)\n",
    "    return target_df"
   ]
  },
  {
   "cell_type": "code",
   "execution_count": 29,
   "metadata": {},
   "outputs": [],
   "source": [
    "# 매도 가격 5분마다 업데이트\n",
    "def get_updateSell_price(df, ticker, k):\n",
    "    df = df\n",
    "    df[\"sell_price\"] = df[\"sell_price\"].map(get_sell_price(ticker, k))\n",
    "    return df"
   ]
  },
  {
   "cell_type": "markdown",
   "metadata": {},
   "source": [
    "## 3단계 자동매수 매도 시작"
   ]
  },
  {
   "cell_type": "code",
   "execution_count": 30,
   "metadata": {},
   "outputs": [
    {
     "name": "stdout",
     "output_type": "stream",
     "text": [
      "<Response [200]>\n",
      "Trade System Start\n"
     ]
    }
   ],
   "source": [
    "noised_coin = None\n",
    "target_df = None\n",
    "\n",
    "# 시작 메세지 슬랙 전송\n",
    "post_message(myToken, \"#history\", \"시스템 시작\")\n",
    "print(\"Trade System Start\")"
   ]
  },
  {
   "cell_type": "code",
   "execution_count": 31,
   "metadata": {},
   "outputs": [
    {
     "name": "stdout",
     "output_type": "stream",
     "text": [
      "['KRW-LTC', 'KRW-XRP', 'KRW-STORJ', 'KRW-GRS', 'KRW-BCH', 'KRW-LINK', 'KRW-HUM']\n"
     ]
    }
   ],
   "source": [
    "now = datetime.datetime.now()\n",
    "start_time = get_start_time(\"KRW-BTC\")\n",
    "end_time = start_time + datetime.timedelta(days=1)\n",
    "fee = 0.0005\n",
    "current_coin = []\n",
    "noised_coin = get_noised_coin()\n",
    "print(noised_coin)"
   ]
  },
  {
   "cell_type": "code",
   "execution_count": null,
   "metadata": {},
   "outputs": [],
   "source": [
    "target_df = get_target_df(noised_coin)\n",
    "target_df.head()"
   ]
  },
  {
   "cell_type": "code",
   "execution_count": 4,
   "metadata": {},
   "outputs": [],
   "source": [
    "a = [{'uuid': '0694def7-5ada-405f-b0f3-053801d5b190',\n",
    "  'side': 'ask',\n",
    "  'ord_type': 'market',\n",
    "  'price': None,\n",
    "  'state': 'done',\n",
    "  'market': 'KRW-LTC',\n",
    "  'created_at': '2021-03-21T14:43:40+09:00',\n",
    "  'volume': '0.07336815',\n",
    "  'remaining_volume': '0.0',\n",
    "  'reserved_fee': '0.0',\n",
    "  'remaining_fee': '0.0',\n",
    "  'paid_fee': '8.39331636',\n",
    "  'locked': '0.0',\n",
    "  'executed_volume': '0.07336815',\n",
    "  'trades_count': 1},\n",
    " {'uuid': '48d6d451-3db5-4357-9d5a-bfb8f417c943',\n",
    "  'side': 'ask',\n",
    "  'ord_type': 'limit',\n",
    "  'price': '230000.0',\n",
    "  'state': 'done',\n",
    "  'market': 'KRW-BTC',\n",
    "  'created_at': '2021-03-17T01:06:55+09:00',\n",
    "  'volume': '0.5',\n",
    "  'remaining_volume': '0.0',\n",
    "  'reserved_fee': '0.0',\n",
    "  'remaining_fee': '0.0',\n",
    "  'paid_fee': '58.775',\n",
    "  'locked': '0.0',\n",
    "  'executed_volume': '0.5',\n",
    "  'trades_count': 2}]"
   ]
  },
  {
   "cell_type": "code",
   "execution_count": 12,
   "metadata": {},
   "outputs": [],
   "source": [
    "df = pd.DataFrame(a)"
   ]
  },
  {
   "cell_type": "code",
   "execution_count": 15,
   "metadata": {},
   "outputs": [],
   "source": [
    "unconcluded_coin = df['market'].values.tolist()"
   ]
  },
  {
   "cell_type": "code",
   "execution_count": 16,
   "metadata": {},
   "outputs": [
    {
     "name": "stdout",
     "output_type": "stream",
     "text": [
      "['KRW-LTC', 'KRW-BTC']\n"
     ]
    }
   ],
   "source": [
    "print(unconcluded_coin)"
   ]
  },
  {
   "cell_type": "code",
   "execution_count": 17,
   "metadata": {},
   "outputs": [
    {
     "name": "stdout",
     "output_type": "stream",
     "text": [
      "ah\n"
     ]
    }
   ],
   "source": [
    "if 'KRW-BTC' in unconcluded_coin:\n",
    "    print(\"ah\")\n",
    "else:\n",
    "    print(\"no\")"
   ]
  },
  {
   "cell_type": "code",
   "execution_count": null,
   "metadata": {},
   "outputs": [],
   "source": []
  }
 ],
 "metadata": {
  "kernelspec": {
   "display_name": "Python 3 (ipykernel)",
   "language": "python",
   "name": "python3"
  },
  "language_info": {
   "codemirror_mode": {
    "name": "ipython",
    "version": 3
   },
   "file_extension": ".py",
   "mimetype": "text/x-python",
   "name": "python",
   "nbconvert_exporter": "python",
   "pygments_lexer": "ipython3",
   "version": "3.9.7"
  }
 },
 "nbformat": 4,
 "nbformat_minor": 4
}
