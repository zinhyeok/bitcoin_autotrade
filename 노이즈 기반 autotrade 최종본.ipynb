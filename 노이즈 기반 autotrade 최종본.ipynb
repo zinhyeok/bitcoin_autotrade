{
 "cells": [
  {
   "cell_type": "markdown",
   "metadata": {},
   "source": [
    "# 노이즈 기반 코인 자동 매수 & 매도"
   ]
  },
  {
   "cell_type": "markdown",
   "metadata": {},
   "source": [
    "## 1단계 import 및 기본 세팅"
   ]
  },
  {
   "cell_type": "code",
   "execution_count": 1,
   "metadata": {},
   "outputs": [],
   "source": [
    "from os import access\n",
    "from re import L\n",
    "import time\n",
    "from numpy import absolute\n",
    "import pyupbit\n",
    "import datetime\n",
    "import pandas as pd\n",
    "from pyupbit.quotation_api import get_tickers\n",
    "import requests"
   ]
  },
  {
   "cell_type": "code",
   "execution_count": 2,
   "metadata": {},
   "outputs": [],
   "source": [
    "access = \"\"\n",
    "secret = \"\"\n",
    "\n",
    "upbit = pyupbit.Upbit(access, secret)"
   ]
  },
  {
   "cell_type": "code",
   "execution_count": 3,
   "metadata": {},
   "outputs": [],
   "source": [
    "# slack에 메세지 봇 추가\n",
    "\n",
    "\n",
    "def post_message(token, channel, text):\n",
    "    response = requests.post(\n",
    "        \"https://slack.com/api/chat.postMessage\",\n",
    "        headers={\"Authorization\": \"Bearer \" + token},\n",
    "        data={\"channel\": channel, \"text\": text},\n",
    "    )\n",
    "    print(response)\n",
    "\n",
    "\n",
    "myToken = \"slackbot token\""
   ]
  },
  {
   "cell_type": "markdown",
   "metadata": {},
   "source": [
    "## 2단계 함수 모음"
   ]
  },
  {
   "cell_type": "code",
   "execution_count": 4,
   "metadata": {},
   "outputs": [],
   "source": [
    "# 매수 목표가 조회\n",
    "def get_target_price(ticker, k):\n",
    "    \"\"\"변동성 돌파 전략으로 매수 목표가 조회\"\"\"\n",
    "    try:\n",
    "        df = pyupbit.get_ohlcv(ticker, interval=\"day\", count=2)\n",
    "        target_price = df.iloc[0][\"close\"] + \\\n",
    "            (df.iloc[0][\"high\"] - df.iloc[0][\"low\"]) * k\n",
    "    except:\n",
    "        pass\n",
    "    \n",
    "    return target_price"
   ]
  },
  {
   "cell_type": "code",
   "execution_count": 5,
   "metadata": {},
   "outputs": [],
   "source": [
    "# 잔고조회\n",
    "def get_balance(ticker):\n",
    "    \"\"\"잔고 조회\"\"\"\n",
    "    balances = upbit.get_balances()\n",
    "    for b in balances:\n",
    "        if b[\"currency\"] == ticker:\n",
    "            if b[\"balance\"] is not None:\n",
    "                return float(b[\"balance\"])\n",
    "            else:\n",
    "                return 0\n",
    "    return 0\n"
   ]
  },
  {
   "cell_type": "code",
   "execution_count": 6,
   "metadata": {},
   "outputs": [],
   "source": [
    "# 현재가 조회\n",
    "def get_current_price(ticker):\n",
    "    \"\"\"현재가 조회\"\"\"\n",
    "    return pyupbit.get_orderbook(ticker=ticker)[\"orderbook_units\"][0][\"ask_price\"]"
   ]
  },
  {
   "cell_type": "code",
   "execution_count": 20,
   "metadata": {},
   "outputs": [],
   "source": [
    "# 3일 이동평균 조회\n",
    "def get_maday3(ticker):\n",
    "    \"\"\"3일 이동 평균선 조회\"\"\"\n",
    "    try:\n",
    "        df = pyupbit.get_ohlcv(ticker, interval=\"day\", count=3)\n",
    "        maday3 = df[\"close\"].rolling(3).mean().iloc[-1]\n",
    "    except:\n",
    "        maday3 = 0\n",
    "\n",
    "    return maday3"
   ]
  },
  {
   "cell_type": "code",
   "execution_count": 8,
   "metadata": {},
   "outputs": [],
   "source": [
    "# 15분 이동평균 조회\n",
    "def get_mamin15(ticker):\n",
    "    \"\"\"15분 이동 평균선의 3회차 이동평균 조회\"\"\"\n",
    "    try:\n",
    "        df = pyupbit.get_ohlcv(ticker, interval=\"minute5\", count=3)\n",
    "        mamin15 = df[\"close\"].rolling(3).mean().iloc[-1]\n",
    "    except:\n",
    "        pass\n",
    "\n",
    "    return mamin15"
   ]
  },
  {
   "cell_type": "code",
   "execution_count": 9,
   "metadata": {},
   "outputs": [],
   "source": [
    "# 시장 시작시간 조회\n",
    "def get_start_time(ticker):\n",
    "    \"\"\"시작 시간 조회\"\"\"\n",
    "    df = pyupbit.get_ohlcv(ticker, interval=\"day\", count=1)\n",
    "    start_time = df.index[0]\n",
    "    return start_time"
   ]
  },
  {
   "cell_type": "code",
   "execution_count": 10,
   "metadata": {},
   "outputs": [],
   "source": [
    "# 매도 가격 타겟팅\n",
    "def get_sell_price(ticker, k):\n",
    "    \"\"\"15분 이평선의 하락 변동성 돌파시 매도\"\"\"\n",
    "    try:\n",
    "        df = pyupbit.get_ohlcv(ticker, interval=\"minute15\", count=1)\n",
    "        sell_price = get_mamin15(ticker) - (df.iloc[0][\"high\"] - df.iloc[0][\"low\"]) * k\n",
    "    except:\n",
    "        pass\n",
    "\n",
    "    return sell_price"
   ]
  },
  {
   "cell_type": "code",
   "execution_count": 11,
   "metadata": {},
   "outputs": [],
   "source": [
    "# 노이즈 함수\n",
    "def get_noised_coin():\n",
    "    \"\"\"3일 노이즈 df에 추가 + 0.5아래인 값 분류\"\"\"\n",
    "    tickers = pyupbit.get_tickers(fiat=\"KRW\")\n",
    "    df = pd.DataFrame()\n",
    "    for ticker in tickers:\n",
    "        try:\n",
    "            temp = pyupbit.get_ohlcv(ticker, interval=\"day\", count=3)\n",
    "            temp[\"ticker\"] = ticker\n",
    "            df = pd.concat([df, temp])\n",
    "        except:\n",
    "            pass\n",
    "    df_noise = pd.DataFrame()\n",
    "    for ticker in tickers:\n",
    "        try:\n",
    "            temp = df\n",
    "            temp[\"noise\"] = 1 - (\n",
    "                absolute(df[\"open\"] - df[\"close\"]) /\n",
    "                absolute(df[\"high\"] - df[\"low\"])\n",
    "            )\n",
    "            df_noise = pd.concat([df, temp])\n",
    "        except:\n",
    "            pass\n",
    "\n",
    "    noised_coin = []\n",
    "\n",
    "    for ticker in tickers:\n",
    "        check = df_noise[df_noise[\"ticker\"] == ticker]\n",
    "        if check[\"noise\"].mean() < 0.5:\n",
    "            # print(ticker, check['noise'].mean())\n",
    "            noised_coin.append(ticker)\n",
    "    return noised_coin"
   ]
  },
  {
   "cell_type": "code",
   "execution_count": 12,
   "metadata": {},
   "outputs": [],
   "source": [
    "# 노이즈가 포함된 df 출력\n",
    "def get_noised_df():\n",
    "    \"\"\"노이즈 0.5이하인것 조회\"\"\"\n",
    "    tickers = pyupbit.get_tickers(fiat=\"KRW\")\n",
    "    df = pd.DataFrame()\n",
    "    for ticker in tickers:\n",
    "        try:\n",
    "            temp = pyupbit.get_ohlcv(ticker, interval=\"day\", count=3)\n",
    "            temp[\"ticker\"] = ticker\n",
    "            df = pd.concat([df, temp])\n",
    "        except:\n",
    "            pass\n",
    "    df_noise = pd.DataFrame()\n",
    "    for ticker in tickers:\n",
    "        try:\n",
    "            temp = df\n",
    "            temp[\"noise\"] = 1 - (\n",
    "                absolute(df[\"open\"] - df[\"close\"]) /\n",
    "                absolute(df[\"high\"] - df[\"low\"])\n",
    "            )\n",
    "            df_noise = pd.concat([df, temp])\n",
    "        except:\n",
    "            pass\n",
    "    return df_noise"
   ]
  },
  {
   "cell_type": "code",
   "execution_count": 13,
   "metadata": {},
   "outputs": [],
   "source": [
    "# 매수, 매도의 target df만들기(기존 방식으로는 내가 원하는 코인을 원하는 가격에 매수 불가: 자료구조 문제)\n",
    "def get_target_df(tickers):\n",
    "    target_df = pd.DataFrame(\n",
    "        columns=[\"coin\", \"target_price\", \"maday3\", \"sell_price\", \"k\"]\n",
    "    )\n",
    "    for coin in tickers:\n",
    "        df_noise = get_noised_df()\n",
    "        check = df_noise[df_noise[\"ticker\"] == coin]\n",
    "        k = check[\"noise\"].mean()\n",
    "        target_price = get_target_price(coin, k)\n",
    "        maday3 = get_maday3(coin)\n",
    "        sell_price = get_sell_price(coin, k)\n",
    "        # DataFrame에 특정 정보를 이용하여 data 채우기\n",
    "        target_df = target_df.append(\n",
    "            pd.DataFrame(\n",
    "                [[coin, target_price, maday3, sell_price, k]],\n",
    "                columns=[\"coin\", \"target_price\", \"maday3\", \"sell_price\", \"k\"],\n",
    "            ),\n",
    "            ignore_index=True,\n",
    "        )\n",
    "    target_df.set_index(\"coin\", inplace=True)\n",
    "    return target_df"
   ]
  },
  {
   "cell_type": "code",
   "execution_count": 14,
   "metadata": {},
   "outputs": [],
   "source": [
    "# 매도 가격 5분마다 업데이트\n",
    "def get_updateSell_price(df, ticker, k):\n",
    "    df = df\n",
    "    df[\"sell_price\"] = df[\"sell_price\"].map(get_sell_price(ticker, k))\n",
    "    return df"
   ]
  },
  {
   "cell_type": "markdown",
   "metadata": {},
   "source": [
    "## 3단계 자동매수 매도 시작"
   ]
  },
  {
   "cell_type": "code",
   "execution_count": 15,
   "metadata": {},
   "outputs": [
    {
     "name": "stdout",
     "output_type": "stream",
     "text": [
      "<Response [200]>\n",
      "Trade System Start\n"
     ]
    }
   ],
   "source": [
    "noised_coin = None\n",
    "target_df = None\n",
    "\n",
    "# 시작 메세지 슬랙 전송\n",
    "post_message(myToken, \"#history\", \"시스템 시작\")\n",
    "print(\"Trade System Start\")"
   ]
  },
  {
   "cell_type": "code",
   "execution_count": 16,
   "metadata": {},
   "outputs": [
    {
     "name": "stdout",
     "output_type": "stream",
     "text": [
      "['KRW-LTC', 'KRW-WAVES', 'KRW-TRX', 'KRW-JST', 'KRW-NEAR']\n"
     ]
    }
   ],
   "source": [
    "now = datetime.datetime.now()\n",
    "start_time = get_start_time(\"KRW-BTC\")\n",
    "end_time = start_time + datetime.timedelta(days=1)\n",
    "fee = 0.0005\n",
    "current_coin = []\n",
    "noised_coin = get_noised_coin()\n",
    "print(noised_coin)"
   ]
  },
  {
   "cell_type": "code",
   "execution_count": 17,
   "metadata": {},
   "outputs": [
    {
     "ename": "UnboundLocalError",
     "evalue": "local variable 'maday3' referenced before assignment",
     "output_type": "error",
     "traceback": [
      "\u001b[1;31m---------------------------------------------------------------------------\u001b[0m",
      "\u001b[1;31mUnboundLocalError\u001b[0m                         Traceback (most recent call last)",
      "\u001b[1;32m<ipython-input-17-9a627630c1bc>\u001b[0m in \u001b[0;36m<module>\u001b[1;34m\u001b[0m\n\u001b[1;32m----> 1\u001b[1;33m \u001b[0mtarget_df\u001b[0m \u001b[1;33m=\u001b[0m \u001b[0mget_target_df\u001b[0m\u001b[1;33m(\u001b[0m\u001b[0mnoised_coin\u001b[0m\u001b[1;33m)\u001b[0m\u001b[1;33m\u001b[0m\u001b[1;33m\u001b[0m\u001b[0m\n\u001b[0m\u001b[0;32m      2\u001b[0m \u001b[0mtarget_df\u001b[0m\u001b[1;33m.\u001b[0m\u001b[0mhead\u001b[0m\u001b[1;33m(\u001b[0m\u001b[1;33m)\u001b[0m\u001b[1;33m\u001b[0m\u001b[1;33m\u001b[0m\u001b[0m\n",
      "\u001b[1;32m<ipython-input-13-dfbd0ea1e768>\u001b[0m in \u001b[0;36mget_target_df\u001b[1;34m(tickers)\u001b[0m\n\u001b[0;32m      9\u001b[0m         \u001b[0mk\u001b[0m \u001b[1;33m=\u001b[0m \u001b[0mcheck\u001b[0m\u001b[1;33m[\u001b[0m\u001b[1;34m\"noise\"\u001b[0m\u001b[1;33m]\u001b[0m\u001b[1;33m.\u001b[0m\u001b[0mmean\u001b[0m\u001b[1;33m(\u001b[0m\u001b[1;33m)\u001b[0m\u001b[1;33m\u001b[0m\u001b[1;33m\u001b[0m\u001b[0m\n\u001b[0;32m     10\u001b[0m         \u001b[0mtarget_price\u001b[0m \u001b[1;33m=\u001b[0m \u001b[0mget_target_price\u001b[0m\u001b[1;33m(\u001b[0m\u001b[0mcoin\u001b[0m\u001b[1;33m,\u001b[0m \u001b[0mk\u001b[0m\u001b[1;33m)\u001b[0m\u001b[1;33m\u001b[0m\u001b[1;33m\u001b[0m\u001b[0m\n\u001b[1;32m---> 11\u001b[1;33m         \u001b[0mmaday3\u001b[0m \u001b[1;33m=\u001b[0m \u001b[0mget_maday3\u001b[0m\u001b[1;33m(\u001b[0m\u001b[0mcoin\u001b[0m\u001b[1;33m)\u001b[0m\u001b[1;33m\u001b[0m\u001b[1;33m\u001b[0m\u001b[0m\n\u001b[0m\u001b[0;32m     12\u001b[0m         \u001b[0msell_price\u001b[0m \u001b[1;33m=\u001b[0m \u001b[0mget_sell_price\u001b[0m\u001b[1;33m(\u001b[0m\u001b[0mcoin\u001b[0m\u001b[1;33m,\u001b[0m \u001b[0mk\u001b[0m\u001b[1;33m)\u001b[0m\u001b[1;33m\u001b[0m\u001b[1;33m\u001b[0m\u001b[0m\n\u001b[0;32m     13\u001b[0m         \u001b[1;31m# DataFrame에 특정 정보를 이용하여 data 채우기\u001b[0m\u001b[1;33m\u001b[0m\u001b[1;33m\u001b[0m\u001b[0m\n",
      "\u001b[1;32m<ipython-input-7-8bb4f8236ddb>\u001b[0m in \u001b[0;36mget_maday3\u001b[1;34m(ticker)\u001b[0m\n\u001b[0;32m      8\u001b[0m         \u001b[1;32mpass\u001b[0m\u001b[1;33m\u001b[0m\u001b[1;33m\u001b[0m\u001b[0m\n\u001b[0;32m      9\u001b[0m \u001b[1;33m\u001b[0m\u001b[0m\n\u001b[1;32m---> 10\u001b[1;33m     \u001b[1;32mreturn\u001b[0m \u001b[0mmaday3\u001b[0m\u001b[1;33m\u001b[0m\u001b[1;33m\u001b[0m\u001b[0m\n\u001b[0m",
      "\u001b[1;31mUnboundLocalError\u001b[0m: local variable 'maday3' referenced before assignment"
     ]
    }
   ],
   "source": [
    "target_df = get_target_df(noised_coin)\n",
    "target_df.head()"
   ]
  },
  {
   "cell_type": "code",
   "execution_count": 18,
   "metadata": {},
   "outputs": [
    {
     "data": {
      "text/html": [
       "<div>\n",
       "<style scoped>\n",
       "    .dataframe tbody tr th:only-of-type {\n",
       "        vertical-align: middle;\n",
       "    }\n",
       "\n",
       "    .dataframe tbody tr th {\n",
       "        vertical-align: top;\n",
       "    }\n",
       "\n",
       "    .dataframe thead th {\n",
       "        text-align: right;\n",
       "    }\n",
       "</style>\n",
       "<table border=\"1\" class=\"dataframe\">\n",
       "  <thead>\n",
       "    <tr style=\"text-align: right;\">\n",
       "      <th></th>\n",
       "      <th>open</th>\n",
       "      <th>high</th>\n",
       "      <th>low</th>\n",
       "      <th>close</th>\n",
       "      <th>volume</th>\n",
       "      <th>value</th>\n",
       "      <th>ticker</th>\n",
       "      <th>noise</th>\n",
       "    </tr>\n",
       "  </thead>\n",
       "  <tbody>\n",
       "    <tr>\n",
       "      <th>2021-12-16 09:00:00</th>\n",
       "      <td>342.0</td>\n",
       "      <td>343.0</td>\n",
       "      <td>320.0</td>\n",
       "      <td>322.0</td>\n",
       "      <td>7.119721e+07</td>\n",
       "      <td>2.371594e+10</td>\n",
       "      <td>KRW-XLM</td>\n",
       "      <td>0.130435</td>\n",
       "    </tr>\n",
       "    <tr>\n",
       "      <th>2021-12-17 09:00:00</th>\n",
       "      <td>322.0</td>\n",
       "      <td>327.0</td>\n",
       "      <td>309.0</td>\n",
       "      <td>319.0</td>\n",
       "      <td>6.395271e+07</td>\n",
       "      <td>2.041179e+10</td>\n",
       "      <td>KRW-XLM</td>\n",
       "      <td>0.833333</td>\n",
       "    </tr>\n",
       "    <tr>\n",
       "      <th>2021-12-18 09:00:00</th>\n",
       "      <td>319.0</td>\n",
       "      <td>331.0</td>\n",
       "      <td>314.0</td>\n",
       "      <td>328.0</td>\n",
       "      <td>1.759997e+07</td>\n",
       "      <td>5.696414e+09</td>\n",
       "      <td>KRW-XLM</td>\n",
       "      <td>0.470588</td>\n",
       "    </tr>\n",
       "    <tr>\n",
       "      <th>2021-12-16 09:00:00</th>\n",
       "      <td>342.0</td>\n",
       "      <td>343.0</td>\n",
       "      <td>320.0</td>\n",
       "      <td>322.0</td>\n",
       "      <td>7.119721e+07</td>\n",
       "      <td>2.371594e+10</td>\n",
       "      <td>KRW-XLM</td>\n",
       "      <td>0.130435</td>\n",
       "    </tr>\n",
       "    <tr>\n",
       "      <th>2021-12-17 09:00:00</th>\n",
       "      <td>322.0</td>\n",
       "      <td>327.0</td>\n",
       "      <td>309.0</td>\n",
       "      <td>319.0</td>\n",
       "      <td>6.395271e+07</td>\n",
       "      <td>2.041179e+10</td>\n",
       "      <td>KRW-XLM</td>\n",
       "      <td>0.833333</td>\n",
       "    </tr>\n",
       "  </tbody>\n",
       "</table>\n",
       "</div>"
      ],
      "text/plain": [
       "                      open   high    low  close        volume         value  \\\n",
       "2021-12-16 09:00:00  342.0  343.0  320.0  322.0  7.119721e+07  2.371594e+10   \n",
       "2021-12-17 09:00:00  322.0  327.0  309.0  319.0  6.395271e+07  2.041179e+10   \n",
       "2021-12-18 09:00:00  319.0  331.0  314.0  328.0  1.759997e+07  5.696414e+09   \n",
       "2021-12-16 09:00:00  342.0  343.0  320.0  322.0  7.119721e+07  2.371594e+10   \n",
       "2021-12-17 09:00:00  322.0  327.0  309.0  319.0  6.395271e+07  2.041179e+10   \n",
       "\n",
       "                      ticker     noise  \n",
       "2021-12-16 09:00:00  KRW-XLM  0.130435  \n",
       "2021-12-17 09:00:00  KRW-XLM  0.833333  \n",
       "2021-12-18 09:00:00  KRW-XLM  0.470588  \n",
       "2021-12-16 09:00:00  KRW-XLM  0.130435  \n",
       "2021-12-17 09:00:00  KRW-XLM  0.833333  "
      ]
     },
     "execution_count": 18,
     "metadata": {},
     "output_type": "execute_result"
    }
   ],
   "source": [
    "tickers = noised_coin\n",
    "df = pd.DataFrame()\n",
    "ticker = \"KRW-XLM\"\n",
    "try:\n",
    "    temp = pyupbit.get_ohlcv(ticker, interval=\"day\", count=3)\n",
    "    temp[\"ticker\"] = ticker\n",
    "    df = pd.concat([df, temp])\n",
    "except:\n",
    "    pass\n",
    "\n",
    "df_noise = pd.DataFrame()\n",
    "\n",
    "try:\n",
    "    temp = df\n",
    "    temp[\"noise\"] = 1 - (\n",
    "        absolute(df[\"open\"] - df[\"close\"]) /\n",
    "        absolute(df[\"high\"] - df[\"low\"])\n",
    "    )\n",
    "    df_noise = pd.concat([df, temp])\n",
    "except:\n",
    "    pass\n",
    "    \n",
    "df_noise.head()"
   ]
  },
  {
   "cell_type": "code",
   "execution_count": 21,
   "metadata": {},
   "outputs": [
    {
     "name": "stdout",
     "output_type": "stream",
     "text": [
      "404\n",
      "Code not found\n",
      "404\n",
      "0\n"
     ]
    }
   ],
   "source": [
    "maday3 = get_maday3(\"KRW-STP2\")\n",
    "print(maday3)"
   ]
  },
  {
   "cell_type": "code",
   "execution_count": 22,
   "metadata": {},
   "outputs": [
    {
     "ename": "KeyError",
     "evalue": "'ticker'",
     "output_type": "error",
     "traceback": [
      "\u001b[1;31m---------------------------------------------------------------------------\u001b[0m",
      "\u001b[1;31mKeyError\u001b[0m                                  Traceback (most recent call last)",
      "\u001b[1;32m~\\AppData\\Roaming\\Python\\Python39\\site-packages\\pandas\\core\\indexes\\base.py\u001b[0m in \u001b[0;36mget_loc\u001b[1;34m(self, key, method, tolerance)\u001b[0m\n\u001b[0;32m   3360\u001b[0m             \u001b[1;32mtry\u001b[0m\u001b[1;33m:\u001b[0m\u001b[1;33m\u001b[0m\u001b[1;33m\u001b[0m\u001b[0m\n\u001b[1;32m-> 3361\u001b[1;33m                 \u001b[1;32mreturn\u001b[0m \u001b[0mself\u001b[0m\u001b[1;33m.\u001b[0m\u001b[0m_engine\u001b[0m\u001b[1;33m.\u001b[0m\u001b[0mget_loc\u001b[0m\u001b[1;33m(\u001b[0m\u001b[0mcasted_key\u001b[0m\u001b[1;33m)\u001b[0m\u001b[1;33m\u001b[0m\u001b[1;33m\u001b[0m\u001b[0m\n\u001b[0m\u001b[0;32m   3362\u001b[0m             \u001b[1;32mexcept\u001b[0m \u001b[0mKeyError\u001b[0m \u001b[1;32mas\u001b[0m \u001b[0merr\u001b[0m\u001b[1;33m:\u001b[0m\u001b[1;33m\u001b[0m\u001b[1;33m\u001b[0m\u001b[0m\n",
      "\u001b[1;32m~\\AppData\\Roaming\\Python\\Python39\\site-packages\\pandas\\_libs\\index.pyx\u001b[0m in \u001b[0;36mpandas._libs.index.IndexEngine.get_loc\u001b[1;34m()\u001b[0m\n",
      "\u001b[1;32m~\\AppData\\Roaming\\Python\\Python39\\site-packages\\pandas\\_libs\\index.pyx\u001b[0m in \u001b[0;36mpandas._libs.index.IndexEngine.get_loc\u001b[1;34m()\u001b[0m\n",
      "\u001b[1;32mpandas\\_libs\\hashtable_class_helper.pxi\u001b[0m in \u001b[0;36mpandas._libs.hashtable.PyObjectHashTable.get_item\u001b[1;34m()\u001b[0m\n",
      "\u001b[1;32mpandas\\_libs\\hashtable_class_helper.pxi\u001b[0m in \u001b[0;36mpandas._libs.hashtable.PyObjectHashTable.get_item\u001b[1;34m()\u001b[0m\n",
      "\u001b[1;31mKeyError\u001b[0m: 'ticker'",
      "\nThe above exception was the direct cause of the following exception:\n",
      "\u001b[1;31mKeyError\u001b[0m                                  Traceback (most recent call last)",
      "\u001b[1;32m<ipython-input-22-5e031d2d4bb9>\u001b[0m in \u001b[0;36m<module>\u001b[1;34m\u001b[0m\n\u001b[0;32m      1\u001b[0m \u001b[0mdf_noise\u001b[0m \u001b[1;33m=\u001b[0m \u001b[0mpd\u001b[0m\u001b[1;33m.\u001b[0m\u001b[0mDataFrame\u001b[0m\u001b[1;33m(\u001b[0m\u001b[1;33m)\u001b[0m\u001b[1;33m\u001b[0m\u001b[1;33m\u001b[0m\u001b[0m\n\u001b[1;32m----> 2\u001b[1;33m \u001b[0mcheck\u001b[0m \u001b[1;33m=\u001b[0m \u001b[0mdf_noise\u001b[0m\u001b[1;33m[\u001b[0m\u001b[0mdf_noise\u001b[0m\u001b[1;33m[\u001b[0m\u001b[1;34m\"ticker\"\u001b[0m\u001b[1;33m]\u001b[0m \u001b[1;33m==\u001b[0m \u001b[0mcoin\u001b[0m\u001b[1;33m]\u001b[0m\u001b[1;33m\u001b[0m\u001b[1;33m\u001b[0m\u001b[0m\n\u001b[0m\u001b[0;32m      3\u001b[0m \u001b[0mk\u001b[0m \u001b[1;33m=\u001b[0m \u001b[0mcheck\u001b[0m\u001b[1;33m[\u001b[0m\u001b[1;34m\"noise\"\u001b[0m\u001b[1;33m]\u001b[0m\u001b[1;33m.\u001b[0m\u001b[0mmean\u001b[0m\u001b[1;33m(\u001b[0m\u001b[1;33m)\u001b[0m\u001b[1;33m\u001b[0m\u001b[1;33m\u001b[0m\u001b[0m\n",
      "\u001b[1;32m~\\AppData\\Roaming\\Python\\Python39\\site-packages\\pandas\\core\\frame.py\u001b[0m in \u001b[0;36m__getitem__\u001b[1;34m(self, key)\u001b[0m\n\u001b[0;32m   3456\u001b[0m             \u001b[1;32mif\u001b[0m \u001b[0mself\u001b[0m\u001b[1;33m.\u001b[0m\u001b[0mcolumns\u001b[0m\u001b[1;33m.\u001b[0m\u001b[0mnlevels\u001b[0m \u001b[1;33m>\u001b[0m \u001b[1;36m1\u001b[0m\u001b[1;33m:\u001b[0m\u001b[1;33m\u001b[0m\u001b[1;33m\u001b[0m\u001b[0m\n\u001b[0;32m   3457\u001b[0m                 \u001b[1;32mreturn\u001b[0m \u001b[0mself\u001b[0m\u001b[1;33m.\u001b[0m\u001b[0m_getitem_multilevel\u001b[0m\u001b[1;33m(\u001b[0m\u001b[0mkey\u001b[0m\u001b[1;33m)\u001b[0m\u001b[1;33m\u001b[0m\u001b[1;33m\u001b[0m\u001b[0m\n\u001b[1;32m-> 3458\u001b[1;33m             \u001b[0mindexer\u001b[0m \u001b[1;33m=\u001b[0m \u001b[0mself\u001b[0m\u001b[1;33m.\u001b[0m\u001b[0mcolumns\u001b[0m\u001b[1;33m.\u001b[0m\u001b[0mget_loc\u001b[0m\u001b[1;33m(\u001b[0m\u001b[0mkey\u001b[0m\u001b[1;33m)\u001b[0m\u001b[1;33m\u001b[0m\u001b[1;33m\u001b[0m\u001b[0m\n\u001b[0m\u001b[0;32m   3459\u001b[0m             \u001b[1;32mif\u001b[0m \u001b[0mis_integer\u001b[0m\u001b[1;33m(\u001b[0m\u001b[0mindexer\u001b[0m\u001b[1;33m)\u001b[0m\u001b[1;33m:\u001b[0m\u001b[1;33m\u001b[0m\u001b[1;33m\u001b[0m\u001b[0m\n\u001b[0;32m   3460\u001b[0m                 \u001b[0mindexer\u001b[0m \u001b[1;33m=\u001b[0m \u001b[1;33m[\u001b[0m\u001b[0mindexer\u001b[0m\u001b[1;33m]\u001b[0m\u001b[1;33m\u001b[0m\u001b[1;33m\u001b[0m\u001b[0m\n",
      "\u001b[1;32m~\\AppData\\Roaming\\Python\\Python39\\site-packages\\pandas\\core\\indexes\\base.py\u001b[0m in \u001b[0;36mget_loc\u001b[1;34m(self, key, method, tolerance)\u001b[0m\n\u001b[0;32m   3361\u001b[0m                 \u001b[1;32mreturn\u001b[0m \u001b[0mself\u001b[0m\u001b[1;33m.\u001b[0m\u001b[0m_engine\u001b[0m\u001b[1;33m.\u001b[0m\u001b[0mget_loc\u001b[0m\u001b[1;33m(\u001b[0m\u001b[0mcasted_key\u001b[0m\u001b[1;33m)\u001b[0m\u001b[1;33m\u001b[0m\u001b[1;33m\u001b[0m\u001b[0m\n\u001b[0;32m   3362\u001b[0m             \u001b[1;32mexcept\u001b[0m \u001b[0mKeyError\u001b[0m \u001b[1;32mas\u001b[0m \u001b[0merr\u001b[0m\u001b[1;33m:\u001b[0m\u001b[1;33m\u001b[0m\u001b[1;33m\u001b[0m\u001b[0m\n\u001b[1;32m-> 3363\u001b[1;33m                 \u001b[1;32mraise\u001b[0m \u001b[0mKeyError\u001b[0m\u001b[1;33m(\u001b[0m\u001b[0mkey\u001b[0m\u001b[1;33m)\u001b[0m \u001b[1;32mfrom\u001b[0m \u001b[0merr\u001b[0m\u001b[1;33m\u001b[0m\u001b[1;33m\u001b[0m\u001b[0m\n\u001b[0m\u001b[0;32m   3364\u001b[0m \u001b[1;33m\u001b[0m\u001b[0m\n\u001b[0;32m   3365\u001b[0m         \u001b[1;32mif\u001b[0m \u001b[0mis_scalar\u001b[0m\u001b[1;33m(\u001b[0m\u001b[0mkey\u001b[0m\u001b[1;33m)\u001b[0m \u001b[1;32mand\u001b[0m \u001b[0misna\u001b[0m\u001b[1;33m(\u001b[0m\u001b[0mkey\u001b[0m\u001b[1;33m)\u001b[0m \u001b[1;32mand\u001b[0m \u001b[1;32mnot\u001b[0m \u001b[0mself\u001b[0m\u001b[1;33m.\u001b[0m\u001b[0mhasnans\u001b[0m\u001b[1;33m:\u001b[0m\u001b[1;33m\u001b[0m\u001b[1;33m\u001b[0m\u001b[0m\n",
      "\u001b[1;31mKeyError\u001b[0m: 'ticker'"
     ]
    }
   ],
   "source": [
    "df_noise = pd.DataFrame()\n",
    "check = df_noise[df_noise[\"ticker\"] == coin]\n",
    "k = check[\"noise\"].mean()"
   ]
  },
  {
   "cell_type": "code",
   "execution_count": null,
   "metadata": {},
   "outputs": [],
   "source": []
  }
 ],
 "metadata": {
  "kernelspec": {
   "display_name": "Python 3 (ipykernel)",
   "language": "python",
   "name": "python3"
  },
  "language_info": {
   "codemirror_mode": {
    "name": "ipython",
    "version": 3
   },
   "file_extension": ".py",
   "mimetype": "text/x-python",
   "name": "python",
   "nbconvert_exporter": "python",
   "pygments_lexer": "ipython3",
   "version": "3.9.7"
  }
 },
 "nbformat": 4,
 "nbformat_minor": 4
}
